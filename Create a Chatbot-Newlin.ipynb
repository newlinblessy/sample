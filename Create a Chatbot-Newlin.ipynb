{
 "cells": [
  {
   "cell_type": "markdown",
   "id": "aac42e73",
   "metadata": {},
   "source": [
    "## Create a Chatbot"
   ]
  },
  {
   "cell_type": "markdown",
   "id": "7dbc4ba8",
   "metadata": {},
   "source": [
    "## R.Newlin Blessy "
   ]
  },
  {
   "cell_type": "code",
   "execution_count": 2,
   "id": "56f36915",
   "metadata": {},
   "outputs": [
    {
     "name": "stderr",
     "output_type": "stream",
     "text": [
      "[nltk_data] Downloading package punkt to\n",
      "[nltk_data]     C:\\Users\\newli\\AppData\\Roaming\\nltk_data...\n",
      "[nltk_data]   Unzipping tokenizers\\punkt.zip.\n"
     ]
    },
    {
     "name": "stdout",
     "output_type": "stream",
     "text": [
      "Chatbot: Hello! I am a simple chatbot. You can start chatting with me or type 'exit' to end the conversation.\n",
      "You: Hi\n",
      "Chatbot: Hi there!\n",
      "You: How are you?\n",
      "Chatbot: I'm doing well.\n",
      "You: What is your name ?\n",
      "Chatbot: You can call me ChatGPT.\n",
      "You: r\"\n",
      "Chatbot: Could you please rephrase that?\n",
      "You: bye\n",
      "Chatbot: See you later!\n",
      "You: Good bye\n",
      "Chatbot: I'm still learning!\n",
      "You: \n",
      "Chatbot: I'm still learning!\n",
      "You: good bye\n",
      "Chatbot: I'm still learning!\n",
      "You: ok bye\n",
      "Chatbot: I'm still learning!\n",
      "You: exit\n",
      "Chatbot: Goodbye!\n"
     ]
    }
   ],
   "source": [
    "import nltk\n",
    "from nltk.chat.util import Chat, reflections\n",
    "\n",
    "\n",
    "pairs = [\n",
    "    # Simple greetings and responses\n",
    "    [\n",
    "        r\"(hi|hello|hey|hola)\",\n",
    "        [\"Hello!\", \"Hi there!\", \"Hey!\", \"Hola!\", \"Greetings!\"],\n",
    "    ],\n",
    "    # Responses to 'How are you?' questions\n",
    "    [\n",
    "        r\"how are you ?\",\n",
    "        [\"I'm good, thank you.\", \"I'm doing well.\", \"I'm fine, thanks!\"],\n",
    "    ],\n",
    "    # Responses to 'What is your name?' questions\n",
    "    [\n",
    "        r\"what is your name ?\",\n",
    "        [\"I am a chatbot.\", \"You can call me ChatGPT.\", \"I'm Chatbot, nice to meet you!\"],\n",
    "    ],\n",
    "    # Responses to 'Goodbye' or 'Bye'\n",
    "    [\n",
    "        r\"bye|goodbye\",\n",
    "        [\"Goodbye!\", \"Bye-bye!\", \"See you later!\", \"Take care!\"],\n",
    "    ],\n",
    "    # Default response if no predefined pattern is matched\n",
    "    [\n",
    "        r\".*\",\n",
    "        [\"I'm sorry, I don't understand.\", \"Could you please rephrase that?\", \"I'm still learning!\"],\n",
    "    ],\n",
    "]\n",
    "\n",
    "# Create the chatbot\n",
    "def chatbot():\n",
    "    print(\"Chatbot: Hello! I am a simple chatbot. You can start chatting with me or type 'exit' to end the conversation.\")\n",
    "    chat = Chat(pairs, reflections)\n",
    "    while True:\n",
    "        user_input = input(\"You: \").lower()\n",
    "        if user_input == \"exit\":\n",
    "            print(\"Chatbot: Goodbye!\")\n",
    "            break\n",
    "        response = chat.respond(user_input)\n",
    "        print(\"Chatbot:\", response)\n",
    "\n",
    "if __name__ == \"__main__\":\n",
    "    nltk.download(\"punkt\")\n",
    "    chatbot()\n"
   ]
  },
  {
   "cell_type": "code",
   "execution_count": null,
   "id": "b7e723ae",
   "metadata": {},
   "outputs": [],
   "source": []
  },
  {
   "cell_type": "code",
   "execution_count": null,
   "id": "ffc7b4a6",
   "metadata": {},
   "outputs": [],
   "source": []
  }
 ],
 "metadata": {
  "kernelspec": {
   "display_name": "Python 3 (ipykernel)",
   "language": "python",
   "name": "python3"
  },
  "language_info": {
   "codemirror_mode": {
    "name": "ipython",
    "version": 3
   },
   "file_extension": ".py",
   "mimetype": "text/x-python",
   "name": "python",
   "nbconvert_exporter": "python",
   "pygments_lexer": "ipython3",
   "version": "3.9.13"
  }
 },
 "nbformat": 4,
 "nbformat_minor": 5
}
